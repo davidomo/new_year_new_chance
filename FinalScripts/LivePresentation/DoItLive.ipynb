{
 "cells": [
  {
   "cell_type": "code",
   "execution_count": null,
   "metadata": {
    "collapsed": true
   },
   "outputs": [],
   "source": [
    "# Dependencies\n",
    "import requests\n",
    "import json\n",
    "import pprint\n",
    "import time\n",
    "import pandas as pd\n",
    "from datetime import datetime\n",
    "import matplotlib.pyplot as plt\n",
    "import numpy as np"
   ]
  },
  {
   "cell_type": "code",
   "execution_count": null,
   "metadata": {
    "collapsed": true
   },
   "outputs": [],
   "source": [
    "# API call setup\n",
    "url = \"https://www.alphavantage.co/query\"\n",
    "\n",
    "function = \"TIME_SERIES_DAILY\"\n",
    "symbol = \"\"\n",
    "api_key = \"SMBQT4NW44MXXREK\"\n",
    "output = \"full\"\n",
    "\n",
    "data = { \"function\": function,\n",
    "        \"symbol\": symbol,\n",
    "        \"apikey\": api_key,\n",
    "        \"outputsize\": output} \n",
    "page = requests.get(url, params = data)\n",
    "pprint.pprint(page.json())"
   ]
  },
  {
   "cell_type": "code",
   "execution_count": null,
   "metadata": {
    "collapsed": true
   },
   "outputs": [],
   "source": [
    "# Make a DataFrame\n",
    "mydictionary = page.json()\n",
    "\n",
    "df = pd.DataFrame.from_dict(mydictionary[\"Time Series (Daily)\"], orient='index')\n",
    "\n",
    "df = df.reset_index()\n",
    "df = df.sort_index(ascending=False)\n",
    "df = df.reset_index()\n",
    "df.head()"
   ]
  },
  {
   "cell_type": "code",
   "execution_count": null,
   "metadata": {
    "collapsed": true
   },
   "outputs": [],
   "source": [
    "# Convert Day/Month/Year\n",
    "month = []\n",
    "day=[]\n",
    "year = []\n",
    "for index, row in df.iterrows():\n",
    "    a = row[\"index\"]\n",
    "    datee = datetime.strptime(a, \"%Y-%m-%d\")\n",
    "    monthdate = datee.strftime(\"%B\")\n",
    "    daydate = datee.strftime(\"%A\") \n",
    "    yeardate = datee.strftime(\"%Y\") \n",
    "    month.append(monthdate)\n",
    "    year.append(yeardate)\n",
    "    day.append(daydate) \n",
    "\n",
    "df[\"Month\"] = month\n",
    "df[\"Day\"] = day\n",
    "df[\"Year\"]= year\n",
    "df[\"Company\"] = symbol\n",
    "df.head()"
   ]
  },
  {
   "cell_type": "code",
   "execution_count": null,
   "metadata": {
    "collapsed": true
   },
   "outputs": [],
   "source": [
    "# Calculate Daily change\n",
    "change = []\n",
    "\n",
    "counter = 0\n",
    "while counter < (len(df[\"index\"]) -1) :\n",
    "    open_num = df[\"1. open\"][counter]\n",
    "    close_num = df[\"4. close\"][counter]\n",
    "    calc = (float(close_num) - float(open_num)) / float(open_num)\n",
    "    change.append(calc)\n",
    "    counter += 1\n",
    "\n",
    "change.append(0)\n",
    "df[\"daily change\"] = change\n",
    "df.head()"
   ]
  },
  {
   "cell_type": "code",
   "execution_count": null,
   "metadata": {
    "collapsed": true
   },
   "outputs": [],
   "source": [
    "# Change columns from strings to numeric\n",
    "df[\"Year\"] = df[\"Year\"].apply(pd.to_numeric)\n",
    "df[\"2. high\"] = df[\"2. high\"].apply(pd.to_numeric)\n",
    "df[\"3. low\"] = df[\"3. low\"].apply(pd.to_numeric)\n",
    "df[\"5. volume\"] = df[\"5. volume\"].apply(pd.to_numeric)\n",
    "df.head()"
   ]
  },
  {
   "cell_type": "code",
   "execution_count": null,
   "metadata": {
    "collapsed": true
   },
   "outputs": [],
   "source": [
    "# Delete data outside scope\n",
    "above_df = df.loc[df[\"Year\"] >= 2007, :]\n",
    "below_df = above_df.loc[(above_df[\"Year\"] < 2018), :]\n",
    "master_df = below_df\n",
    "del master_df[\"level_0\"]\n",
    "master_df = master_df.reset_index()\n",
    "master_df.head()"
   ]
  },
  {
   "cell_type": "code",
   "execution_count": null,
   "metadata": {
    "collapsed": true
   },
   "outputs": [],
   "source": [
    "# Make GroupBy easier\n",
    "day_to_num = []\n",
    "month_to_num = []\n",
    "\n",
    "x = 0\n",
    "\n",
    "while x < len(master_df[\"Day\"]):\n",
    "    \n",
    "    if master_df[\"Day\"][x] == \"Monday\":\n",
    "        day_to_num.append(1)\n",
    "    elif master_df[\"Day\"][x] == \"Tuesday\":\n",
    "        day_to_num.append(2)\n",
    "    elif master_df[\"Day\"][x] == \"Wednesday\":\n",
    "        day_to_num.append(3)\n",
    "    elif master_df[\"Day\"][x] == \"Thursday\":\n",
    "        day_to_num.append(4)\n",
    "    else:\n",
    "        day_to_num.append(5)\n",
    "        \n",
    "    x += 1\n",
    "\n",
    "z = 0\n",
    "\n",
    "while z < len(master_df[\"Month\"]):\n",
    "    \n",
    "    if master_df[\"Month\"][z] == \"January\":\n",
    "        month_to_num.append(1)\n",
    "    elif master_df[\"Month\"][z] == \"February\":\n",
    "        month_to_num.append(2)\n",
    "    elif master_df[\"Month\"][z] == \"March\":\n",
    "        month_to_num.append(3)\n",
    "    elif master_df[\"Month\"][z] == \"April\":\n",
    "        month_to_num.append(4)\n",
    "    elif master_df[\"Month\"][z] == \"May\":\n",
    "        month_to_num.append(5)\n",
    "    elif master_df[\"Month\"][z] == \"June\":\n",
    "        month_to_num.append(6)\n",
    "    elif master_df[\"Month\"][z] == \"July\":\n",
    "        month_to_num.append(7)\n",
    "    elif master_df[\"Month\"][z] == \"August\":\n",
    "        month_to_num.append(8)\n",
    "    elif master_df[\"Month\"][z] == \"September\":\n",
    "        month_to_num.append(9)\n",
    "    elif master_df[\"Month\"][z] == \"October\":\n",
    "        month_to_num.append(10)\n",
    "    elif master_df[\"Month\"][z] == \"November\":\n",
    "        month_to_num.append(11)\n",
    "    else:\n",
    "        month_to_num.append(12)\n",
    "        \n",
    "    z += 1\n",
    "\n",
    "master_df[\"Date to Num\"] = day_to_num\n",
    "master_df[\"Month to Num\"] = month_to_num\n",
    "master_df.head()"
   ]
  },
  {
   "cell_type": "code",
   "execution_count": null,
   "metadata": {
    "collapsed": true
   },
   "outputs": [],
   "source": [
    "# Calculate Volatility\n",
    "Vol = []\n",
    "\n",
    "x = 0\n",
    "\n",
    "while x < len(master_df[\"Month\"]):\n",
    "    new = master_df[\"2. high\"][x]\n",
    "    old = master_df[\"3. low\"][x]\n",
    "    change = 0 \n",
    "    change = (new - old) /old\n",
    "    Vol.append(change)\n",
    "    x += 1\n",
    "\n",
    "master_df[\"Volatility\"] = Vol\n",
    "master_df.head()"
   ]
  },
  {
   "cell_type": "code",
   "execution_count": null,
   "metadata": {
    "collapsed": true
   },
   "outputs": [],
   "source": [
    "# Make a grouped data frame for days\n",
    "day_change = master_df.groupby([\"Date to Num\"])\n",
    "\n",
    "MeanofChange = (day_change[\"daily change\"].mean()) * 100\n",
    "SumofVolu = day_change[\"5. volume\"].sum()\n",
    "MeanofVol = (day_change[\"Volatility\"].mean()) * 100\n",
    "\n",
    "DayGrouped = pd.DataFrame({\"Daily Change Average\" : MeanofChange,\n",
    "                       \"Total Volume\" : SumofVolu,\n",
    "                          \"Volatility\": MeanofVol})\n",
    "\n",
    "DayGrouped.head()"
   ]
  },
  {
   "cell_type": "code",
   "execution_count": null,
   "metadata": {
    "collapsed": true
   },
   "outputs": [],
   "source": [
    "# Make a grouped data frame for months\n",
    "month_change = master_df.groupby([\"Month to Num\"])\n",
    "\n",
    "mMeanofChange = (month_change[\"daily change\"].mean()) * 100\n",
    "mSumofVolu = month_change[\"5. volume\"].sum()\n",
    "mMeanofVol = (month_change[\"Volatility\"].mean()) * 100\n",
    "\n",
    "MonthGrouped = pd.DataFrame({\"Monthly Change Average\" : mMeanofChange,\n",
    "                       \"Total Volume\" : mSumofVolu,\n",
    "                            \"Volatility\": mMeanofVol})\n",
    "\n",
    "MonthGrouped.head(12)"
   ]
  },
  {
   "cell_type": "code",
   "execution_count": null,
   "metadata": {
    "collapsed": true
   },
   "outputs": [],
   "source": [
    "# Days/Months for plot labels\n",
    "Days = [\"Monday\", \"Tuesday\", \"Wednesday\", \"Thursday\", \"Friday\"]\n",
    "Months = [\"Jan\", \"Feb\", \"Mar\", \"Apr\", \"May\", \"Jun\", \"Jul\", \"Aug\", \"Sep\", \"Oct\", \"Nov\", \"Dec\"]"
   ]
  },
  {
   "cell_type": "code",
   "execution_count": null,
   "metadata": {
    "collapsed": true
   },
   "outputs": [],
   "source": [
    "# Invert DF to have oldest date at start\n",
    "companies = master_df[\"Company\"].unique()\n",
    "comp_zero = master_df.loc[master_df[\"Company\"] == companies[0], :]\n",
    "\n",
    "invert_df = comp_zero.sort_index(ascending=False)\n",
    "\n",
    "# Find index number of year breaks to plot on line chart\n",
    "year_break = [0]\n",
    "counter = 0\n",
    "z = 0\n",
    "while z < (len(invert_df[\"Year\"]) - 2):\n",
    "    if invert_df[\"Year\"][z] == invert_df[\"Year\"][(z+1)]:\n",
    "        counter += 1\n",
    "    else:\n",
    "        year_break.append(counter)\n",
    "        counter += 1\n",
    "    \n",
    "    z += 1\n",
    "    \n",
    "year_break"
   ]
  },
  {
   "cell_type": "code",
   "execution_count": null,
   "metadata": {
    "collapsed": true
   },
   "outputs": [],
   "source": [
    "# Plot closing price to see trend\n",
    "x_axis = np.arange(len(invert_df[\"Company\"]))\n",
    "plt.figure(figsize=(25,10))\n",
    "\n",
    "f = 0\n",
    "year_label = invert_df[\"Year\"].unique()\n",
    "year_count = 0\n",
    "for year in year_break: \n",
    "    plt.axvline(x=(year), linestyle = \"--\", linewidth = 1, color = \"black\", alpha = .25, gid = year_label[year_count])\n",
    "    f += 1\n",
    "    year_count += 1\n",
    "\n",
    "plt.xticks(year_break, invert_df[\"Year\"].unique())\n",
    "plt.yticks([],[])\n",
    "plt.ylabel(\"Closing Price Trend\")\n",
    "plt.title(symbol + \" Daily Price Change\")\n",
    "\n",
    "data = (invert_df[\"4. close\"])\n",
    "\n",
    "plt.plot(x_axis, data)\n",
    "\n",
    "plt.savefig(\"Figures/\" + symbol + \"ClosingPrice\")\n",
    "plt.show()"
   ]
  },
  {
   "cell_type": "code",
   "execution_count": null,
   "metadata": {
    "collapsed": true
   },
   "outputs": [],
   "source": [
    "# Daily Change Average Chart\n",
    "x_axis = np.arange(len(Days))\n",
    "y_axis = DayGrouped[\"Daily Change Average\"]\n",
    "\n",
    "plt.figure(figsize=(10,8))\n",
    "\n",
    "colors = []\n",
    "for check in DayGrouped[\"Daily Change Average\"]:\n",
    "    if check >= 0:\n",
    "        color = \"black\"\n",
    "        colors.append(color)\n",
    "    else:\n",
    "        color = \"r\"\n",
    "        colors.append(color)\n",
    "\n",
    "plt.bar(x_axis, y_axis, color = colors, alpha=0.8, align=\"edge\")\n",
    "\n",
    "plt.axhline(y=0, linestyle='-', linewidth = 1, color = \"black\", alpha = .6)\n",
    "\n",
    "tick_locations = [value+0.4 for value in x_axis]\n",
    "plt.xticks(tick_locations, Days)\n",
    "\n",
    "plt.ylabel(\"Average of Open/Close Change (%)\")\n",
    "plt.title(symbol + \" Daily Price Change\")\n",
    "\n",
    "plt.savefig(\"Figures/\" + symbol + \"DDCA\")\n",
    "plt.show()"
   ]
  },
  {
   "cell_type": "code",
   "execution_count": null,
   "metadata": {
    "collapsed": true
   },
   "outputs": [],
   "source": [
    "# Monthly Change Average Chart\n",
    "x_axis = np.arange(len(Months))\n",
    "y_axis = MonthGrouped[\"Monthly Change Average\"]\n",
    "\n",
    "plt.figure(figsize=(10,8))\n",
    "\n",
    "mcolors = []\n",
    "\n",
    "for z in MonthGrouped[\"Monthly Change Average\"]:\n",
    "    if z >= 0:\n",
    "        color = \"black\"\n",
    "        mcolors.append(color)\n",
    "    else:\n",
    "        color = \"red\"\n",
    "        mcolors.append(color)\n",
    "\n",
    "plt.bar(x_axis, y_axis, color=mcolors, alpha=0.8, align=\"edge\")\n",
    "\n",
    "plt.axhline(y=0, linestyle='-', linewidth = 1, color = \"black\", alpha = .6)\n",
    "\n",
    "tick_locations = [value+.4 for value in x_axis]\n",
    "plt.xticks(tick_locations, Months)\n",
    "\n",
    "plt.ylabel(\"Average of Open/Close Price (%)\")\n",
    "plt.title(symbol + \" Monthly Price Change\")\n",
    "\n",
    "string = symbol + \"MDCA\"\n",
    "\n",
    "plt.savefig(\"Figures/\" + symbol + \"MDCA\")\n",
    "plt.show()"
   ]
  },
  {
   "cell_type": "code",
   "execution_count": null,
   "metadata": {
    "collapsed": true
   },
   "outputs": [],
   "source": [
    "# Daily Volatility\n",
    "x_axis = np.arange(len(Days))\n",
    "y_axis = DayGrouped[\"Volatility\"]\n",
    "\n",
    "plt.figure(figsize=(10,8))\n",
    "\n",
    "plt.bar(x_axis, y_axis, color='black', alpha=0.8, align=\"edge\")\n",
    "\n",
    "tick_locations = [value+0.4 for value in x_axis]\n",
    "plt.xticks(tick_locations, Days)\n",
    "\n",
    "maxi = DayGrouped[\"Volatility\"].max()\n",
    "mini = DayGrouped[\"Volatility\"].min()\n",
    "higher = (maxi + (maxi/20))\n",
    "lower = (mini - (mini/10))\n",
    "\n",
    "plt.ylim(lower,higher)\n",
    "\n",
    "plt.ylabel(\"High/Low Volatility (%)\")\n",
    "plt.title(symbol + \" Daily Volatility\")\n",
    "\n",
    "plt.savefig(\"Figures/\" + symbol + \"DV\")\n",
    "plt.show()"
   ]
  },
  {
   "cell_type": "code",
   "execution_count": null,
   "metadata": {
    "collapsed": true
   },
   "outputs": [],
   "source": [
    "# Monthly Volatility\n",
    "x_axis = np.arange(len(Months))\n",
    "y_axis = MonthGrouped[\"Volatility\"]\n",
    "\n",
    "plt.figure(figsize=(10,8))\n",
    "\n",
    "plt.bar(x_axis, y_axis, color='black', alpha=0.8, align=\"edge\")\n",
    "\n",
    "plt.axhline(y=0, linestyle='-', linewidth = 1, color = \"black\", alpha = .6)\n",
    "\n",
    "tick_locations = [value+.4 for value in x_axis]\n",
    "plt.xticks(tick_locations, Months)\n",
    "\n",
    "maxi = MonthGrouped[\"Volatility\"].max()\n",
    "mini = MonthGrouped[\"Volatility\"].min()\n",
    "higher = (maxi + (maxi/10))\n",
    "lower = (mini - (mini/10))\n",
    "\n",
    "plt.ylim(lower,higher)\n",
    "\n",
    "plt.ylabel(\"High/Low Volatility (%)\")\n",
    "plt.title(symbol + \" Monthly Volatility\")\n",
    "\n",
    "plt.savefig(\"Figures/\" + symbol + \"MV\")\n",
    "plt.show()"
   ]
  },
  {
   "cell_type": "code",
   "execution_count": null,
   "metadata": {
    "collapsed": true
   },
   "outputs": [],
   "source": [
    "x_axis = np.arange(len(invert_df[\"Company\"]))\n",
    "plt.figure(figsize=(25,10))\n",
    "\n",
    "f = 0\n",
    "year_label = invert_df[\"Year\"].unique()\n",
    "year_count = 0\n",
    "for year in year_break: \n",
    "    plt.axvline(x=(year), linestyle = \"--\", linewidth = 1, color = \"black\", alpha = .25, gid = year_label[year_count])\n",
    "    f += 1\n",
    "    year_count += 1\n",
    "\n",
    "plt.xticks(year_break, invert_df[\"Year\"].unique())\n",
    "plt.axhline(y=0, linestyle='--', linewidth = 2, color = \"black\", alpha = .4)\n",
    "plt.ylabel(\"Daily Open/Close Change (%)\")\n",
    "plt.title(symbol + \" Daily Price Change\")\n",
    "\n",
    "data = (invert_df[\"daily change\"] * 100)\n",
    "\n",
    "plt.plot(x_axis, data)\n",
    "\n",
    "plt.savefig(\"Figures/\" + symbol + \"VolLineFull\")\n",
    "plt.show()"
   ]
  }
 ],
 "metadata": {
  "kernelspec": {
   "display_name": "Python 3",
   "language": "python",
   "name": "python3"
  },
  "language_info": {
   "codemirror_mode": {
    "name": "ipython",
    "version": 3
   },
   "file_extension": ".py",
   "mimetype": "text/x-python",
   "name": "python",
   "nbconvert_exporter": "python",
   "pygments_lexer": "ipython3",
   "version": "3.6.3"
  }
 },
 "nbformat": 4,
 "nbformat_minor": 2
}
