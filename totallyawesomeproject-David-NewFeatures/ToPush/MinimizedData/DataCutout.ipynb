{
 "cells": [
  {
   "cell_type": "code",
   "execution_count": 2,
   "metadata": {
    "collapsed": true
   },
   "outputs": [],
   "source": [
    "# Dependencies\n",
    "import pandas as pd\n",
    "import json\n",
    "import csv\n",
    "import matplotlib.pyplot as plt\n",
    "import numpy as np"
   ]
  },
  {
   "cell_type": "code",
   "execution_count": 3,
   "metadata": {},
   "outputs": [
    {
     "data": {
      "text/html": [
       "<div>\n",
       "<style>\n",
       "    .dataframe thead tr:only-child th {\n",
       "        text-align: right;\n",
       "    }\n",
       "\n",
       "    .dataframe thead th {\n",
       "        text-align: left;\n",
       "    }\n",
       "\n",
       "    .dataframe tbody tr th {\n",
       "        vertical-align: top;\n",
       "    }\n",
       "</style>\n",
       "<table border=\"1\" class=\"dataframe\">\n",
       "  <thead>\n",
       "    <tr style=\"text-align: right;\">\n",
       "      <th></th>\n",
       "      <th>level_0</th>\n",
       "      <th>index</th>\n",
       "      <th>1. open</th>\n",
       "      <th>2. high</th>\n",
       "      <th>3. low</th>\n",
       "      <th>4. close</th>\n",
       "      <th>5. volume</th>\n",
       "      <th>Month</th>\n",
       "      <th>Day</th>\n",
       "      <th>Year</th>\n",
       "      <th>Company</th>\n",
       "      <th>daily change</th>\n",
       "    </tr>\n",
       "  </thead>\n",
       "  <tbody>\n",
       "    <tr>\n",
       "      <th>0</th>\n",
       "      <td>4533</td>\n",
       "      <td>2018-01-09</td>\n",
       "      <td>142.37</td>\n",
       "      <td>145.68</td>\n",
       "      <td>142.260</td>\n",
       "      <td>144.14</td>\n",
       "      <td>8896882</td>\n",
       "      <td>January</td>\n",
       "      <td>Tuesday</td>\n",
       "      <td>2018</td>\n",
       "      <td>JNJ</td>\n",
       "      <td>0.015857</td>\n",
       "    </tr>\n",
       "    <tr>\n",
       "      <th>1</th>\n",
       "      <td>4532</td>\n",
       "      <td>2018-01-08</td>\n",
       "      <td>141.70</td>\n",
       "      <td>142.00</td>\n",
       "      <td>140.920</td>\n",
       "      <td>141.89</td>\n",
       "      <td>4980217</td>\n",
       "      <td>January</td>\n",
       "      <td>Monday</td>\n",
       "      <td>2018</td>\n",
       "      <td>JNJ</td>\n",
       "      <td>0.001270</td>\n",
       "    </tr>\n",
       "    <tr>\n",
       "      <th>2</th>\n",
       "      <td>4531</td>\n",
       "      <td>2018-01-05</td>\n",
       "      <td>140.69</td>\n",
       "      <td>141.82</td>\n",
       "      <td>140.281</td>\n",
       "      <td>141.71</td>\n",
       "      <td>5900718</td>\n",
       "      <td>January</td>\n",
       "      <td>Friday</td>\n",
       "      <td>2018</td>\n",
       "      <td>JNJ</td>\n",
       "      <td>0.008253</td>\n",
       "    </tr>\n",
       "    <tr>\n",
       "      <th>3</th>\n",
       "      <td>4530</td>\n",
       "      <td>2018-01-04</td>\n",
       "      <td>140.45</td>\n",
       "      <td>141.14</td>\n",
       "      <td>140.220</td>\n",
       "      <td>140.55</td>\n",
       "      <td>4777518</td>\n",
       "      <td>January</td>\n",
       "      <td>Thursday</td>\n",
       "      <td>2018</td>\n",
       "      <td>JNJ</td>\n",
       "      <td>-0.000071</td>\n",
       "    </tr>\n",
       "    <tr>\n",
       "      <th>4</th>\n",
       "      <td>4529</td>\n",
       "      <td>2018-01-03</td>\n",
       "      <td>139.36</td>\n",
       "      <td>140.68</td>\n",
       "      <td>138.900</td>\n",
       "      <td>140.56</td>\n",
       "      <td>5241755</td>\n",
       "      <td>January</td>\n",
       "      <td>Wednesday</td>\n",
       "      <td>2018</td>\n",
       "      <td>JNJ</td>\n",
       "      <td>0.009553</td>\n",
       "    </tr>\n",
       "  </tbody>\n",
       "</table>\n",
       "</div>"
      ],
      "text/plain": [
       "   level_0       index  1. open  2. high   3. low  4. close  5. volume  \\\n",
       "0     4533  2018-01-09   142.37   145.68  142.260    144.14    8896882   \n",
       "1     4532  2018-01-08   141.70   142.00  140.920    141.89    4980217   \n",
       "2     4531  2018-01-05   140.69   141.82  140.281    141.71    5900718   \n",
       "3     4530  2018-01-04   140.45   141.14  140.220    140.55    4777518   \n",
       "4     4529  2018-01-03   139.36   140.68  138.900    140.56    5241755   \n",
       "\n",
       "     Month        Day  Year Company  daily change  \n",
       "0  January    Tuesday  2018     JNJ      0.015857  \n",
       "1  January     Monday  2018     JNJ      0.001270  \n",
       "2  January     Friday  2018     JNJ      0.008253  \n",
       "3  January   Thursday  2018     JNJ     -0.000071  \n",
       "4  January  Wednesday  2018     JNJ      0.009553  "
      ]
     },
     "execution_count": 3,
     "metadata": {},
     "output_type": "execute_result"
    }
   ],
   "source": [
    "file_name = \"../../../Pharm_masterdata.csv\"\n",
    "master_df = pd.read_csv(file_name)\n",
    "master_df.head()"
   ]
  },
  {
   "cell_type": "code",
   "execution_count": 4,
   "metadata": {
    "collapsed": true
   },
   "outputs": [],
   "source": [
    "# Delete years outside scope\n",
    "above_df = master_df.loc[(master_df[\"Year\"] >= 2014), :]\n",
    "below_df = above_df.loc[(above_df[\"Year\"] < 2018), :]\n",
    "newmaster_df = below_df"
   ]
  },
  {
   "cell_type": "code",
   "execution_count": 5,
   "metadata": {
    "collapsed": true
   },
   "outputs": [],
   "source": [
    "# Make new CSV files with only needed data\n",
    "newmaster_df.to_csv(\"Pharma_newmasterdata.csv\", index=False, header=True)"
   ]
  },
  {
   "cell_type": "code",
   "execution_count": 6,
   "metadata": {
    "collapsed": true
   },
   "outputs": [],
   "source": [
    "# Make a list of all unique companies\n",
    "names = newmaster_df[\"Company\"].unique()\n",
    "\n",
    "# For loop to write out new CSVs\n",
    "for Stock in names:\n",
    "    new_df = newmaster_df.loc[(newmaster_df[\"Company\"] == Stock), :]\n",
    "    new_df.to_csv(\"new\" + Stock + \".csv\", index=False, header=True)\n"
   ]
  }
 ],
 "metadata": {
  "kernelspec": {
   "display_name": "Python 3",
   "language": "python",
   "name": "python3"
  },
  "language_info": {
   "codemirror_mode": {
    "name": "ipython",
    "version": 3
   },
   "file_extension": ".py",
   "mimetype": "text/x-python",
   "name": "python",
   "nbconvert_exporter": "python",
   "pygments_lexer": "ipython3",
   "version": "3.6.3"
  }
 },
 "nbformat": 4,
 "nbformat_minor": 2
}
