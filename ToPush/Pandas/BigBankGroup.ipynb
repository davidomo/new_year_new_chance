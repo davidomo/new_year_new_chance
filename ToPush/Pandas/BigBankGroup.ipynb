{
 "cells": [
  {
   "cell_type": "code",
   "execution_count": 1,
   "metadata": {
    "collapsed": true
   },
   "outputs": [],
   "source": [
    "# Dependencies\n",
    "import pandas as pd\n",
    "import json\n",
    "import csv\n",
    "import matplotlib.pyplot as plt\n",
    "import numpy as np"
   ]
  },
  {
   "cell_type": "code",
   "execution_count": 3,
   "metadata": {},
   "outputs": [
    {
     "data": {
      "text/plain": [
       "6295"
      ]
     },
     "execution_count": 3,
     "metadata": {},
     "output_type": "execute_result"
    }
   ],
   "source": [
    "master_df = pd.read_csv(\"../BigBanks/bankdata.csv\")\n",
    "len(master_df)"
   ]
  },
  {
   "cell_type": "code",
   "execution_count": 4,
   "metadata": {},
   "outputs": [
    {
     "data": {
      "text/html": [
       "<div>\n",
       "<style>\n",
       "    .dataframe thead tr:only-child th {\n",
       "        text-align: right;\n",
       "    }\n",
       "\n",
       "    .dataframe thead th {\n",
       "        text-align: left;\n",
       "    }\n",
       "\n",
       "    .dataframe tbody tr th {\n",
       "        vertical-align: top;\n",
       "    }\n",
       "</style>\n",
       "<table border=\"1\" class=\"dataframe\">\n",
       "  <thead>\n",
       "    <tr style=\"text-align: right;\">\n",
       "      <th></th>\n",
       "      <th>Daily Change Average</th>\n",
       "      <th>Total Volume</th>\n",
       "    </tr>\n",
       "    <tr>\n",
       "      <th>Date to Num</th>\n",
       "      <th></th>\n",
       "      <th></th>\n",
       "    </tr>\n",
       "  </thead>\n",
       "  <tbody>\n",
       "    <tr>\n",
       "      <th>1</th>\n",
       "      <td>0.0163%</td>\n",
       "      <td>34074026721</td>\n",
       "    </tr>\n",
       "    <tr>\n",
       "      <th>2</th>\n",
       "      <td>0.1061%</td>\n",
       "      <td>39569452987</td>\n",
       "    </tr>\n",
       "    <tr>\n",
       "      <th>3</th>\n",
       "      <td>0.1366%</td>\n",
       "      <td>43511294806</td>\n",
       "    </tr>\n",
       "    <tr>\n",
       "      <th>4</th>\n",
       "      <td>0.0362%</td>\n",
       "      <td>41368386521</td>\n",
       "    </tr>\n",
       "    <tr>\n",
       "      <th>5</th>\n",
       "      <td>0.0250%</td>\n",
       "      <td>40790737146</td>\n",
       "    </tr>\n",
       "  </tbody>\n",
       "</table>\n",
       "</div>"
      ],
      "text/plain": [
       "            Daily Change Average  Total Volume\n",
       "Date to Num                                   \n",
       "1                        0.0163%   34074026721\n",
       "2                        0.1061%   39569452987\n",
       "3                        0.1366%   43511294806\n",
       "4                        0.0362%   41368386521\n",
       "5                        0.0250%   40790737146"
      ]
     },
     "execution_count": 4,
     "metadata": {},
     "output_type": "execute_result"
    }
   ],
   "source": [
    "day_change = master_df.groupby([\"Date to Num\"])\n",
    "\n",
    "MeanofChange = (day_change[\"daily change\"].mean()) * 100\n",
    "SumofVol = day_change[\"5. volume\"].sum()\n",
    "\n",
    "DayGrouped = pd.DataFrame({\"Daily Change Average\" : MeanofChange,\n",
    "                       \"Total Volume\" : SumofVol})\n",
    "\n",
    "DayGrouped[\"Daily Change Average\"] = DayGrouped[\"Daily Change Average\"].map(\"{:.4f}%\".format)\n",
    "DayGrouped.head()"
   ]
  },
  {
   "cell_type": "code",
   "execution_count": 5,
   "metadata": {},
   "outputs": [
    {
     "data": {
      "text/html": [
       "<div>\n",
       "<style>\n",
       "    .dataframe thead tr:only-child th {\n",
       "        text-align: right;\n",
       "    }\n",
       "\n",
       "    .dataframe thead th {\n",
       "        text-align: left;\n",
       "    }\n",
       "\n",
       "    .dataframe tbody tr th {\n",
       "        vertical-align: top;\n",
       "    }\n",
       "</style>\n",
       "<table border=\"1\" class=\"dataframe\">\n",
       "  <thead>\n",
       "    <tr style=\"text-align: right;\">\n",
       "      <th></th>\n",
       "      <th>Monthly Change Average</th>\n",
       "      <th>Total Volume</th>\n",
       "    </tr>\n",
       "    <tr>\n",
       "      <th>Month to Num</th>\n",
       "      <th></th>\n",
       "      <th></th>\n",
       "    </tr>\n",
       "  </thead>\n",
       "  <tbody>\n",
       "    <tr>\n",
       "      <th>1</th>\n",
       "      <td>-0.2102%</td>\n",
       "      <td>20989138906</td>\n",
       "    </tr>\n",
       "    <tr>\n",
       "      <th>2</th>\n",
       "      <td>0.1098%</td>\n",
       "      <td>19396699437</td>\n",
       "    </tr>\n",
       "    <tr>\n",
       "      <th>3</th>\n",
       "      <td>0.0769%</td>\n",
       "      <td>19557785518</td>\n",
       "    </tr>\n",
       "    <tr>\n",
       "      <th>4</th>\n",
       "      <td>0.0490%</td>\n",
       "      <td>17372554044</td>\n",
       "    </tr>\n",
       "    <tr>\n",
       "      <th>5</th>\n",
       "      <td>0.1063%</td>\n",
       "      <td>15346339305</td>\n",
       "    </tr>\n",
       "    <tr>\n",
       "      <th>6</th>\n",
       "      <td>0.0246%</td>\n",
       "      <td>16484687792</td>\n",
       "    </tr>\n",
       "    <tr>\n",
       "      <th>7</th>\n",
       "      <td>0.1423%</td>\n",
       "      <td>15198798474</td>\n",
       "    </tr>\n",
       "    <tr>\n",
       "      <th>8</th>\n",
       "      <td>-0.0454%</td>\n",
       "      <td>14151885203</td>\n",
       "    </tr>\n",
       "    <tr>\n",
       "      <th>9</th>\n",
       "      <td>-0.0064%</td>\n",
       "      <td>14834387913</td>\n",
       "    </tr>\n",
       "    <tr>\n",
       "      <th>10</th>\n",
       "      <td>0.1545%</td>\n",
       "      <td>15993059539</td>\n",
       "    </tr>\n",
       "    <tr>\n",
       "      <th>11</th>\n",
       "      <td>0.3024%</td>\n",
       "      <td>14739193675</td>\n",
       "    </tr>\n",
       "    <tr>\n",
       "      <th>12</th>\n",
       "      <td>0.0794%</td>\n",
       "      <td>15249368375</td>\n",
       "    </tr>\n",
       "  </tbody>\n",
       "</table>\n",
       "</div>"
      ],
      "text/plain": [
       "             Monthly Change Average  Total Volume\n",
       "Month to Num                                     \n",
       "1                          -0.2102%   20989138906\n",
       "2                           0.1098%   19396699437\n",
       "3                           0.0769%   19557785518\n",
       "4                           0.0490%   17372554044\n",
       "5                           0.1063%   15346339305\n",
       "6                           0.0246%   16484687792\n",
       "7                           0.1423%   15198798474\n",
       "8                          -0.0454%   14151885203\n",
       "9                          -0.0064%   14834387913\n",
       "10                          0.1545%   15993059539\n",
       "11                          0.3024%   14739193675\n",
       "12                          0.0794%   15249368375"
      ]
     },
     "execution_count": 5,
     "metadata": {},
     "output_type": "execute_result"
    }
   ],
   "source": [
    "month_change = master_df.groupby([\"Month to Num\"])\n",
    "\n",
    "mMeanofChange = (month_change[\"daily change\"].mean()) * 100\n",
    "mSumofVol = month_change[\"5. volume\"].sum()\n",
    "\n",
    "MonthGrouped = pd.DataFrame({\"Monthly Change Average\" : mMeanofChange,\n",
    "                       \"Total Volume\" : mSumofVol})\n",
    "\n",
    "MonthGrouped[\"Monthly Change Average\"] = MonthGrouped[\"Monthly Change Average\"].map(\"{:.4f}%\".format)\n",
    "MonthGrouped.head(12)"
   ]
  }
 ],
 "metadata": {
  "kernelspec": {
   "display_name": "Python 3",
   "language": "python",
   "name": "python3"
  },
  "language_info": {
   "codemirror_mode": {
    "name": "ipython",
    "version": 3
   },
   "file_extension": ".py",
   "mimetype": "text/x-python",
   "name": "python",
   "nbconvert_exporter": "python",
   "pygments_lexer": "ipython3",
   "version": "3.6.3"
  }
 },
 "nbformat": 4,
 "nbformat_minor": 2
}
