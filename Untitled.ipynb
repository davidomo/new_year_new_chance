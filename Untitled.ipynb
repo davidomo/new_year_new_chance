{
 "cells": [
  {
   "cell_type": "code",
   "execution_count": null,
   "metadata": {
    "collapsed": true
   },
   "outputs": [],
   "source": [
    "# Dependencies\n",
    "import tweepy\n",
    "import json\n",
    "\n",
    "# Twitter API Keys\n",
    "consumer_key = \"Ed4RNulN1lp7AbOooHa9STCoU\"\n",
    "consumer_secret = \"P7cUJlmJZq0VaCY0Jg7COliwQqzK0qYEyUF9Y0idx4ujb3ZlW5\"\n",
    "access_token = \"839621358724198402-dzdOsx2WWHrSuBwyNUiqSEnTivHozAZ\"\n",
    "access_token_secret = \"dCZ80uNRbFDjxdU2EckmNiSckdoATach6Q8zb7YYYE5ER\"\n",
    "\n",
    "# Setup Tweepy API Authentication\n",
    "auth = tweepy.OAuthHandler(consumer_key, consumer_secret)\n",
    "auth.set_access_token(access_token, access_token_secret)\n",
    "api = tweepy.API(auth, parser=tweepy.parsers.JSONParser())\n"
   ]
  },
  {
   "cell_type": "code",
   "execution_count": null,
   "metadata": {
    "collapsed": true
   },
   "outputs": [],
   "source": [
    "# Target Hashtags\n",
    "target_tags = [\"#bigdata\"]\n",
    "time_between_tweets = []\n",
    "\n",
    "# Loop through each hashtag\n",
    "for tag in target_tags:\n",
    "    \n",
    "    # Create array to record all date-times of tweets\n",
    "    tweet_times = []\n",
    "\n",
    "    # Get 100 tweets on targetted tag\n",
    "    public_tweets = api.search(tag, rpp=100)\n",
    "    print(tag)\n",
    "\n",
    "    # Loop through all tweets\n",
    "    for tweet in public_tweets[\"statuses\"]:\n",
    "\n",
    "        # Store all tweet times into the array\n",
    "        tweet_times.append(tweet[\"created_at\"])\n",
    "    \n",
    "    # Convert all tweet times into datetime objects\n",
    "    tweet_time_objects = []\n",
    "\n",
    "    # Add each datetime object into the array\n",
    "    for x in range(len(tweet_times)):\n",
    "        tweet_datetime = datetime.strptime(tweet_times[x], \"%a %b %d %H:%M:%S %z %Y\")\n",
    "        tweet_time_objects.append(tweet_datetime)\n",
    "\n",
    "    # Calculate the time between tweets\n",
    "    time_in_between = []\n",
    "\n",
    "    # Calculate the time in between each tweet\n",
    "    for x in range(len(tweet_time_objects)-1):\n",
    "        secs_apart = ((tweet_time_objects[x] - tweet_time_objects[x+1]).seconds) \n",
    "        time_in_between.append(secs_apart)\n",
    "\n",
    "    # Seconds Between Tweets\n",
    "    print(\"Avg. Seconds Between Tweets: %s\" % np.mean(time_in_between))\n",
    "    print(\"\")"
   ]
  }
 ],
 "metadata": {
  "kernelspec": {
   "display_name": "Python 3",
   "language": "python",
   "name": "python3"
  },
  "language_info": {
   "codemirror_mode": {
    "name": "ipython",
    "version": 3
   },
   "file_extension": ".py",
   "mimetype": "text/x-python",
   "name": "python",
   "nbconvert_exporter": "python",
   "pygments_lexer": "ipython3",
   "version": "3.6.1"
  }
 },
 "nbformat": 4,
 "nbformat_minor": 2
}
